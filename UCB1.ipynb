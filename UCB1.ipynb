{
 "cells": [
  {
   "cell_type": "code",
   "execution_count": 1,
   "id": "4552585b",
   "metadata": {
    "ExecuteTime": {
     "end_time": "2023-07-14T08:27:38.498898Z",
     "start_time": "2023-07-14T08:27:37.948311Z"
    }
   },
   "outputs": [],
   "source": [
    "import pandas as pd\n",
    "from collections import defaultdict\n",
    "import gzip\n",
    "import numpy as np\n",
    "import random\n",
    "import matplotlib.pyplot as plt\n",
    "import warnings\n",
    "warnings.filterwarnings(\"ignore\")"
   ]
  },
  {
   "cell_type": "code",
   "execution_count": 2,
   "id": "029a8cf7",
   "metadata": {
    "ExecuteTime": {
     "end_time": "2023-07-14T08:28:01.815322Z",
     "start_time": "2023-07-14T08:27:38.500866Z"
    }
   },
   "outputs": [],
   "source": [
    "path = \"./small_data/ydata-fp-td-clicks-v2_0.20111002.gz\"\n",
    "dic = defaultdict(list)\n",
    "with gzip.open(path,\"rb\") as f:\n",
    "    lines = f.readlines()\n",
    "    for idx, line in enumerate(lines):\n",
    "        elements = line.decode('utf-8').strip().split(\" |\")\n",
    "        ts, displayed_arm, reward = elements[0].split(\" \")\n",
    "        feature_idx = np.array(elements[1].split(\" \")[1:]).astype(\"int\")-1\n",
    "        features = np.zeros(136)\n",
    "        features[feature_idx] = 1\n",
    "        pools = elements[2:]\n",
    "        \n",
    "        dic['displayed_arm'].append(displayed_arm)\n",
    "        dic['reward'].append(reward)\n",
    "        dic['features'].append(features)\n",
    "        dic['pool'].append(pools)"
   ]
  },
  {
   "cell_type": "code",
   "execution_count": 3,
   "id": "b28df727",
   "metadata": {
    "ExecuteTime": {
     "end_time": "2023-07-14T08:28:02.467755Z",
     "start_time": "2023-07-14T08:28:01.816320Z"
    }
   },
   "outputs": [
    {
     "data": {
      "text/html": [
       "<div>\n",
       "<style scoped>\n",
       "    .dataframe tbody tr th:only-of-type {\n",
       "        vertical-align: middle;\n",
       "    }\n",
       "\n",
       "    .dataframe tbody tr th {\n",
       "        vertical-align: top;\n",
       "    }\n",
       "\n",
       "    .dataframe thead th {\n",
       "        text-align: right;\n",
       "    }\n",
       "</style>\n",
       "<table border=\"1\" class=\"dataframe\">\n",
       "  <thead>\n",
       "    <tr style=\"text-align: right;\">\n",
       "      <th></th>\n",
       "      <th>displayed_arm</th>\n",
       "      <th>reward</th>\n",
       "      <th>features</th>\n",
       "      <th>pool</th>\n",
       "    </tr>\n",
       "  </thead>\n",
       "  <tbody>\n",
       "    <tr>\n",
       "      <th>0</th>\n",
       "      <td>id-560620</td>\n",
       "      <td>0</td>\n",
       "      <td>[1.0, 0.0, 0.0, 0.0, 0.0, 0.0, 0.0, 0.0, 1.0, ...</td>\n",
       "      <td>[id-552077, id-555224, id-555528, id-559744, i...</td>\n",
       "    </tr>\n",
       "    <tr>\n",
       "      <th>1</th>\n",
       "      <td>id-565648</td>\n",
       "      <td>0</td>\n",
       "      <td>[1.0, 0.0, 0.0, 0.0, 0.0, 0.0, 0.0, 0.0, 1.0, ...</td>\n",
       "      <td>[id-552077, id-555224, id-555528, id-559744, i...</td>\n",
       "    </tr>\n",
       "    <tr>\n",
       "      <th>2</th>\n",
       "      <td>id-563115</td>\n",
       "      <td>0</td>\n",
       "      <td>[1.0, 0.0, 0.0, 0.0, 0.0, 0.0, 0.0, 1.0, 0.0, ...</td>\n",
       "      <td>[id-552077, id-555224, id-555528, id-559744, i...</td>\n",
       "    </tr>\n",
       "    <tr>\n",
       "      <th>3</th>\n",
       "      <td>id-552077</td>\n",
       "      <td>0</td>\n",
       "      <td>[1.0, 0.0, 0.0, 0.0, 0.0, 0.0, 1.0, 0.0, 0.0, ...</td>\n",
       "      <td>[id-552077, id-555224, id-555528, id-559744, i...</td>\n",
       "    </tr>\n",
       "    <tr>\n",
       "      <th>4</th>\n",
       "      <td>id-564335</td>\n",
       "      <td>0</td>\n",
       "      <td>[1.0, 0.0, 0.0, 0.0, 0.0, 0.0, 0.0, 0.0, 0.0, ...</td>\n",
       "      <td>[id-552077, id-555224, id-555528, id-559744, i...</td>\n",
       "    </tr>\n",
       "  </tbody>\n",
       "</table>\n",
       "</div>"
      ],
      "text/plain": [
       "  displayed_arm reward                                           features  \\\n",
       "0     id-560620      0  [1.0, 0.0, 0.0, 0.0, 0.0, 0.0, 0.0, 0.0, 1.0, ...   \n",
       "1     id-565648      0  [1.0, 0.0, 0.0, 0.0, 0.0, 0.0, 0.0, 0.0, 1.0, ...   \n",
       "2     id-563115      0  [1.0, 0.0, 0.0, 0.0, 0.0, 0.0, 0.0, 1.0, 0.0, ...   \n",
       "3     id-552077      0  [1.0, 0.0, 0.0, 0.0, 0.0, 0.0, 1.0, 0.0, 0.0, ...   \n",
       "4     id-564335      0  [1.0, 0.0, 0.0, 0.0, 0.0, 0.0, 0.0, 0.0, 0.0, ...   \n",
       "\n",
       "                                                pool  \n",
       "0  [id-552077, id-555224, id-555528, id-559744, i...  \n",
       "1  [id-552077, id-555224, id-555528, id-559744, i...  \n",
       "2  [id-552077, id-555224, id-555528, id-559744, i...  \n",
       "3  [id-552077, id-555224, id-555528, id-559744, i...  \n",
       "4  [id-552077, id-555224, id-555528, id-559744, i...  "
      ]
     },
     "execution_count": 3,
     "metadata": {},
     "output_type": "execute_result"
    }
   ],
   "source": [
    "train = pd.DataFrame(dic)\n",
    "train.head(5)"
   ]
  },
  {
   "cell_type": "code",
   "execution_count": 4,
   "id": "e7bd006e",
   "metadata": {
    "ExecuteTime": {
     "end_time": "2023-07-14T08:28:02.715331Z",
     "start_time": "2023-07-14T08:28:02.470748Z"
    }
   },
   "outputs": [
    {
     "data": {
      "text/plain": [
       "array(['id-560620', 'id-565648', 'id-563115', 'id-552077', 'id-564335',\n",
       "       'id-565589', 'id-563938', 'id-560290', 'id-563643', 'id-565822',\n",
       "       'id-563787', 'id-555528', 'id-565364', 'id-559855', 'id-560518',\n",
       "       'id-565561', 'id-564604', 'id-563846', 'id-563582', 'id-565533',\n",
       "       'id-565479', 'id-559744', 'id-565515', 'id-564418', 'id-565747',\n",
       "       'id-555224', 'id-565930', 'id-566013', 'id-566022', 'id-566092',\n",
       "       'id-560805', 'id-564371', 'id-562265', 'id-565980', 'id-566431',\n",
       "       'id-566439', 'id-559833', 'id-566541', 'id-562374', 'id-566587',\n",
       "       'id-566478', 'id-566573', 'id-566602', 'id-562637', 'id-566631',\n",
       "       'id-566689', 'id-566726', 'id-566825', 'id-566838'], dtype=object)"
      ]
     },
     "execution_count": 4,
     "metadata": {},
     "output_type": "execute_result"
    }
   ],
   "source": [
    "arm = train['displayed_arm'].unique()\n",
    "arm"
   ]
  },
  {
   "cell_type": "code",
   "execution_count": 5,
   "id": "aad1a00d",
   "metadata": {
    "ExecuteTime": {
     "end_time": "2023-07-14T08:28:02.777484Z",
     "start_time": "2023-07-14T08:28:02.717326Z"
    }
   },
   "outputs": [],
   "source": [
    "reward = np.zeros(len(arm))\n",
    "play = np.zeros(len(arm))\n",
    "mu = np.zeros(len(arm))\n",
    "time = 0\n",
    "\n",
    "iter_ = max(train.index)\n",
    "cum_reward = []"
   ]
  },
  {
   "cell_type": "code",
   "execution_count": 6,
   "id": "41a5b693",
   "metadata": {
    "ExecuteTime": {
     "end_time": "2023-07-14T08:28:02.792397Z",
     "start_time": "2023-07-14T08:28:02.778355Z"
    }
   },
   "outputs": [],
   "source": [
    "while sum(play == 1) != len(arm):\n",
    "    tmp_idx = np.argmin(play)\n",
    "    play[tmp_idx] += 1\n",
    "    if train['displayed_arm'].iloc[time] == arm[tmp_idx]:\n",
    "        reward[tmp_idx] += int(train['reward'].iloc[time])\n",
    "    else:\n",
    "        reward[tmp_idx] += 0\n",
    "    time += 1\n",
    "    mu = reward/play\n",
    "    cum_reward.append(sum(reward))"
   ]
  },
  {
   "cell_type": "code",
   "execution_count": 7,
   "id": "b23be094",
   "metadata": {
    "ExecuteTime": {
     "end_time": "2023-07-14T08:28:31.337172Z",
     "start_time": "2023-07-14T08:28:02.794268Z"
    },
    "scrolled": true
   },
   "outputs": [],
   "source": [
    "# play each machine once\n",
    "while sum(play == 1) != len(arm):\n",
    "    tmp_idx = np.argmin(play)\n",
    "    play[tmp_idx] += 1\n",
    "    if train['displayed_arm'].iloc[time] == arm[tmp_idx]:\n",
    "        reward[tmp_idx] += int(train['reward'].iloc[time])\n",
    "    else:\n",
    "        reward[tmp_idx] += 0\n",
    "    time += 1\n",
    "    mu = reward/play\n",
    "    cum_reward.append(sum(reward))\n",
    "\n",
    "# UCB1 algorithm\n",
    "while time < iter_:\n",
    "    action = np.argmax(mu + (2*np.log(time))/play)\n",
    "    play[action] += 1\n",
    "    if train['displayed_arm'].iloc[time] == arm[action]:\n",
    "        reward[action] += int(train['reward'].iloc[time])\n",
    "    else:\n",
    "        reward[action] += 0\n",
    "    time += 1\n",
    "    mu = reward/play\n",
    "    cum_reward.append(sum(reward))"
   ]
  },
  {
   "cell_type": "code",
   "execution_count": 8,
   "id": "f4df7038",
   "metadata": {
    "ExecuteTime": {
     "end_time": "2023-07-14T08:28:31.353091Z",
     "start_time": "2023-07-14T08:28:31.339131Z"
    }
   },
   "outputs": [
    {
     "data": {
      "text/plain": [
       "{'id-560620': 2,\n",
       " 'id-565648': 27,\n",
       " 'id-563115': 69,\n",
       " 'id-552077': 1,\n",
       " 'id-564335': 11,\n",
       " 'id-565589': 75,\n",
       " 'id-563938': 6,\n",
       " 'id-560290': 20,\n",
       " 'id-563643': 68,\n",
       " 'id-565822': 417,\n",
       " 'id-563787': 1,\n",
       " 'id-555528': 15,\n",
       " 'id-565364': 5,\n",
       " 'id-559855': 20,\n",
       " 'id-560518': 9,\n",
       " 'id-565561': 22,\n",
       " 'id-564604': 8,\n",
       " 'id-563846': 36,\n",
       " 'id-563582': 26,\n",
       " 'id-565533': 68,\n",
       " 'id-565479': 32,\n",
       " 'id-559744': 2,\n",
       " 'id-565515': 113,\n",
       " 'id-564418': 8,\n",
       " 'id-565747': 133,\n",
       " 'id-555224': 26,\n",
       " 'id-565930': 15,\n",
       " 'id-566013': 13,\n",
       " 'id-566022': 9,\n",
       " 'id-566092': 7,\n",
       " 'id-560805': 18,\n",
       " 'id-564371': 8,\n",
       " 'id-562265': 1,\n",
       " 'id-565980': 0,\n",
       " 'id-566431': 2043,\n",
       " 'id-566439': 0,\n",
       " 'id-559833': 0,\n",
       " 'id-566541': 0,\n",
       " 'id-562374': 0,\n",
       " 'id-566587': 0,\n",
       " 'id-566478': 0,\n",
       " 'id-566573': 0,\n",
       " 'id-566602': 0,\n",
       " 'id-562637': 0,\n",
       " 'id-566631': 0,\n",
       " 'id-566689': 0,\n",
       " 'id-566726': 0,\n",
       " 'id-566825': 0,\n",
       " 'id-566838': 0}"
      ]
     },
     "execution_count": 8,
     "metadata": {},
     "output_type": "execute_result"
    }
   ],
   "source": [
    "# Cumulative rewards of each arm\n",
    "reward_result = reward.astype(int)\n",
    "arm_reward = dict(zip(arm, reward_result))\n",
    "arm_reward"
   ]
  },
  {
   "cell_type": "code",
   "execution_count": 9,
   "id": "db61f5dd",
   "metadata": {
    "ExecuteTime": {
     "end_time": "2023-07-14T08:28:31.368086Z",
     "start_time": "2023-07-14T08:28:31.355087Z"
    }
   },
   "outputs": [
    {
     "data": {
      "text/plain": [
       "array([0.0002, 0.0013, 0.0019, 0.0001, 0.0007, 0.0019, 0.0005, 0.0011,\n",
       "       0.0019, 0.0025, 0.0001, 0.0009, 0.0004, 0.0011, 0.0006, 0.0012,\n",
       "       0.0006, 0.0015, 0.0013, 0.0019, 0.0014, 0.0002, 0.0021, 0.0006,\n",
       "       0.0022, 0.0013, 0.0009, 0.0008, 0.0006, 0.0005, 0.001 , 0.0006,\n",
       "       0.0001, 0.    , 0.0034, 0.    , 0.    , 0.    , 0.    , 0.    ,\n",
       "       0.    , 0.    , 0.    , 0.    , 0.    , 0.    , 0.    , 0.    ,\n",
       "       0.    ])"
      ]
     },
     "execution_count": 9,
     "metadata": {},
     "output_type": "execute_result"
    }
   ],
   "source": [
    "# Mean of reward of each arm\n",
    "np.round(mu,4)"
   ]
  },
  {
   "cell_type": "code",
   "execution_count": 11,
   "id": "a5249bc0",
   "metadata": {
    "ExecuteTime": {
     "end_time": "2023-07-14T08:29:04.924132Z",
     "start_time": "2023-07-14T08:29:04.903825Z"
    }
   },
   "outputs": [
    {
     "data": {
      "text/plain": [
       "array([ 11338.,  20890.,  36937.,  10956.,  14776.,  39229.,  12866.,\n",
       "        18215.,  36555., 169898.,  10956.,  16305.,  12484.,  18215.,\n",
       "        14012.,  18979.,  13630.,  24328.,  20508.,  36555.,  22800.,\n",
       "        11338.,  53748.,  13630.,  61389.,  20508.,  16305.,  15541.,\n",
       "        14012.,  13248.,  17451.,  13630.,  10956.,  10574., 606726.,\n",
       "        10574.,  10574.,  10574.,  10574.,  10574.,  10574.,  10574.,\n",
       "        10574.,  10574.,  10574.,  10574.,  10574.,  10574.,  10574.])"
      ]
     },
     "execution_count": 11,
     "metadata": {},
     "output_type": "execute_result"
    }
   ],
   "source": [
    "# Play time of each arm\n",
    "play"
   ]
  },
  {
   "cell_type": "code",
   "execution_count": 10,
   "id": "f0b98b4d",
   "metadata": {
    "ExecuteTime": {
     "end_time": "2023-07-14T08:28:31.677233Z",
     "start_time": "2023-07-14T08:28:31.371089Z"
    }
   },
   "outputs": [
    {
     "data": {
      "image/png": "[encoded data removed]",
      "text/plain": [
       "<Figure size 640x480 with 1 Axes>"
      ]
     },
     "metadata": {},
     "output_type": "display_data"
    }
   ],
   "source": [
    "plt.plot(cum_reward)\n",
    "plt.title(\"Cumulative reward\")\n",
    "plt.show()"
   ]
  }
 ],
 "metadata": {
  "kernelspec": {
   "display_name": "Python 3 (ipykernel)",
   "language": "python",
   "name": "python3"
  },
  "language_info": {
   "codemirror_mode": {
    "name": "ipython",
    "version": 3
   },
   "file_extension": ".py",
   "mimetype": "text/x-python",
   "name": "python",
   "nbconvert_exporter": "python",
   "pygments_lexer": "ipython3",
   "version": "3.8.13"
  }
 },
 "nbformat": 4,
 "nbformat_minor": 5
}
