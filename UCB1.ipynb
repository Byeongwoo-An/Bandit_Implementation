{
 "cells": [
  {
   "cell_type": "code",
   "execution_count": 1,
   "id": "4552585b",
   "metadata": {
    "ExecuteTime": {
     "end_time": "2023-07-14T06:34:39.115517Z",
     "start_time": "2023-07-14T06:34:38.813328Z"
    }
   },
   "outputs": [],
   "source": [
    "import pandas as pd\n",
    "from collections import defaultdict\n",
    "import gzip\n",
    "import numpy as np\n",
    "import random\n",
    "from tqdm import tqdm\n",
    "import time"
   ]
  },
  {
   "cell_type": "code",
   "execution_count": 2,
   "id": "029a8cf7",
   "metadata": {
    "ExecuteTime": {
     "end_time": "2023-07-14T06:35:17.289872Z",
     "start_time": "2023-07-14T06:34:39.117511Z"
    }
   },
   "outputs": [],
   "source": [
    "path = \"./small_data/ydata-fp-td-clicks-v2_0.20111002.gz\"\n",
    "dic = defaultdict(list)\n",
    "with gzip.open(path,\"rb\") as f:\n",
    "    lines = f.readlines()\n",
    "    for idx, line in enumerate(lines):\n",
    "        elements = line.decode('utf-8').strip().split(\" |\")\n",
    "        ts, displayed_arm, reward = elements[0].split(\" \")\n",
    "        feature_idx = np.array(elements[1].split(\" \")[1:]).astype(\"int\")-1\n",
    "        features = np.zeros(136)\n",
    "        features[feature_idx] = 1\n",
    "        pools = elements[2:]\n",
    "        \n",
    "        dic['displayed_arm'].append(displayed_arm)\n",
    "        dic['reward'].append(reward)\n",
    "        dic['features'].append(features)\n",
    "        dic['pool'].append(pools)"
   ]
  },
  {
   "cell_type": "code",
   "execution_count": 3,
   "id": "b28df727",
   "metadata": {
    "ExecuteTime": {
     "end_time": "2023-07-14T06:35:17.989060Z",
     "start_time": "2023-07-14T06:35:17.293862Z"
    }
   },
   "outputs": [
    {
     "data": {
      "text/html": [
       "<div>\n",
       "<style scoped>\n",
       "    .dataframe tbody tr th:only-of-type {\n",
       "        vertical-align: middle;\n",
       "    }\n",
       "\n",
       "    .dataframe tbody tr th {\n",
       "        vertical-align: top;\n",
       "    }\n",
       "\n",
       "    .dataframe thead th {\n",
       "        text-align: right;\n",
       "    }\n",
       "</style>\n",
       "<table border=\"1\" class=\"dataframe\">\n",
       "  <thead>\n",
       "    <tr style=\"text-align: right;\">\n",
       "      <th></th>\n",
       "      <th>displayed_arm</th>\n",
       "      <th>reward</th>\n",
       "      <th>features</th>\n",
       "      <th>pool</th>\n",
       "    </tr>\n",
       "  </thead>\n",
       "  <tbody>\n",
       "    <tr>\n",
       "      <th>0</th>\n",
       "      <td>id-560620</td>\n",
       "      <td>0</td>\n",
       "      <td>[1.0, 0.0, 0.0, 0.0, 0.0, 0.0, 0.0, 0.0, 1.0, ...</td>\n",
       "      <td>[id-552077, id-555224, id-555528, id-559744, i...</td>\n",
       "    </tr>\n",
       "    <tr>\n",
       "      <th>1</th>\n",
       "      <td>id-565648</td>\n",
       "      <td>0</td>\n",
       "      <td>[1.0, 0.0, 0.0, 0.0, 0.0, 0.0, 0.0, 0.0, 1.0, ...</td>\n",
       "      <td>[id-552077, id-555224, id-555528, id-559744, i...</td>\n",
       "    </tr>\n",
       "    <tr>\n",
       "      <th>2</th>\n",
       "      <td>id-563115</td>\n",
       "      <td>0</td>\n",
       "      <td>[1.0, 0.0, 0.0, 0.0, 0.0, 0.0, 0.0, 1.0, 0.0, ...</td>\n",
       "      <td>[id-552077, id-555224, id-555528, id-559744, i...</td>\n",
       "    </tr>\n",
       "    <tr>\n",
       "      <th>3</th>\n",
       "      <td>id-552077</td>\n",
       "      <td>0</td>\n",
       "      <td>[1.0, 0.0, 0.0, 0.0, 0.0, 0.0, 1.0, 0.0, 0.0, ...</td>\n",
       "      <td>[id-552077, id-555224, id-555528, id-559744, i...</td>\n",
       "    </tr>\n",
       "    <tr>\n",
       "      <th>4</th>\n",
       "      <td>id-564335</td>\n",
       "      <td>0</td>\n",
       "      <td>[1.0, 0.0, 0.0, 0.0, 0.0, 0.0, 0.0, 0.0, 0.0, ...</td>\n",
       "      <td>[id-552077, id-555224, id-555528, id-559744, i...</td>\n",
       "    </tr>\n",
       "  </tbody>\n",
       "</table>\n",
       "</div>"
      ],
      "text/plain": [
       "  displayed_arm reward                                           features  \\\n",
       "0     id-560620      0  [1.0, 0.0, 0.0, 0.0, 0.0, 0.0, 0.0, 0.0, 1.0, ...   \n",
       "1     id-565648      0  [1.0, 0.0, 0.0, 0.0, 0.0, 0.0, 0.0, 0.0, 1.0, ...   \n",
       "2     id-563115      0  [1.0, 0.0, 0.0, 0.0, 0.0, 0.0, 0.0, 1.0, 0.0, ...   \n",
       "3     id-552077      0  [1.0, 0.0, 0.0, 0.0, 0.0, 0.0, 1.0, 0.0, 0.0, ...   \n",
       "4     id-564335      0  [1.0, 0.0, 0.0, 0.0, 0.0, 0.0, 0.0, 0.0, 0.0, ...   \n",
       "\n",
       "                                                pool  \n",
       "0  [id-552077, id-555224, id-555528, id-559744, i...  \n",
       "1  [id-552077, id-555224, id-555528, id-559744, i...  \n",
       "2  [id-552077, id-555224, id-555528, id-559744, i...  \n",
       "3  [id-552077, id-555224, id-555528, id-559744, i...  \n",
       "4  [id-552077, id-555224, id-555528, id-559744, i...  "
      ]
     },
     "execution_count": 3,
     "metadata": {},
     "output_type": "execute_result"
    }
   ],
   "source": [
    "train = pd.DataFrame(dic)\n",
    "train.head(5)"
   ]
  },
  {
   "cell_type": "code",
   "execution_count": 4,
   "id": "e7bd006e",
   "metadata": {
    "ExecuteTime": {
     "end_time": "2023-07-14T06:35:18.253782Z",
     "start_time": "2023-07-14T06:35:17.991055Z"
    }
   },
   "outputs": [
    {
     "data": {
      "text/plain": [
       "array(['id-562374', 'id-564604', 'id-565589', 'id-566838', 'id-560290',\n",
       "       'id-566573', 'id-566825', 'id-565648', 'id-565561', 'id-563582',\n",
       "       'id-565980', 'id-565822', 'id-566587', 'id-566602', 'id-552077',\n",
       "       'id-566013', 'id-563938', 'id-563787', 'id-563115', 'id-564335',\n",
       "       'id-566631', 'id-559855', 'id-566689', 'id-565515', 'id-566431',\n",
       "       'id-559833', 'id-560518', 'id-559744', 'id-566541', 'id-566022',\n",
       "       'id-565747', 'id-564371', 'id-563643', 'id-566478', 'id-562265',\n",
       "       'id-560620', 'id-565479', 'id-563846', 'id-564418', 'id-560805',\n",
       "       'id-565533', 'id-565364', 'id-566726', 'id-566092', 'id-555224',\n",
       "       'id-566439', 'id-562637', 'id-555528', 'id-565930'], dtype=object)"
      ]
     },
     "execution_count": 4,
     "metadata": {},
     "output_type": "execute_result"
    }
   ],
   "source": [
    "arm = train['displayed_arm'].unique()\n",
    "random.shuffle(arm)\n",
    "arm"
   ]
  },
  {
   "cell_type": "code",
   "execution_count": 5,
   "id": "aad1a00d",
   "metadata": {
    "ExecuteTime": {
     "end_time": "2023-07-14T06:35:18.269375Z",
     "start_time": "2023-07-14T06:35:18.256771Z"
    }
   },
   "outputs": [],
   "source": [
    "reward = np.zeros(len(arm))\n",
    "play = np.zeros(len(arm))\n",
    "mu = np.zeros(len(arm))\n",
    "time = 0"
   ]
  },
  {
   "cell_type": "code",
   "execution_count": 6,
   "id": "c5f22fce",
   "metadata": {
    "ExecuteTime": {
     "end_time": "2023-07-14T06:35:18.331192Z",
     "start_time": "2023-07-14T06:35:18.271302Z"
    }
   },
   "outputs": [],
   "source": [
    "iter_ = max(train.index)"
   ]
  },
  {
   "cell_type": "code",
   "execution_count": 7,
   "id": "b23be094",
   "metadata": {
    "ExecuteTime": {
     "end_time": "2023-07-14T06:35:40.558927Z",
     "start_time": "2023-07-14T06:35:18.333183Z"
    },
    "scrolled": true
   },
   "outputs": [
    {
     "name": "stderr",
     "output_type": "stream",
     "text": [
      "C:\\Users\\Byeongwoo\\AppData\\Local\\Temp\\ipykernel_10872\\420177933.py:9: RuntimeWarning: invalid value encountered in divide\n",
      "  mu = reward/play\n"
     ]
    }
   ],
   "source": [
    "while sum(play == 1) != len(arm):\n",
    "    tmp_idx = np.argmin(play)\n",
    "    play[tmp_idx] += 1\n",
    "    if train['displayed_arm'].iloc[time] == arm[tmp_idx]:\n",
    "        reward[tmp_idx] += int(train['reward'].iloc[time])\n",
    "    else:\n",
    "        reward[tmp_idx] += 0\n",
    "    time += 1\n",
    "    mu = reward/play\n",
    "\n",
    "while time < iter_:\n",
    "    action = np.argmax(mu + (2*np.log(time))/play)\n",
    "    play[action] += 1\n",
    "    if train['displayed_arm'].iloc[time] == arm[action]:\n",
    "        reward[action] += int(train['reward'].iloc[time])\n",
    "    else:\n",
    "        reward[action] += 0\n",
    "    time += 1\n",
    "    mu = reward/play"
   ]
  },
  {
   "cell_type": "code",
   "execution_count": 8,
   "id": "f4df7038",
   "metadata": {
    "ExecuteTime": {
     "end_time": "2023-07-14T06:35:40.573976Z",
     "start_time": "2023-07-14T06:35:40.559844Z"
    }
   },
   "outputs": [
    {
     "data": {
      "text/plain": [
       "{'id-562374': 0,\n",
       " 'id-564604': 4,\n",
       " 'id-565589': 30,\n",
       " 'id-566838': 0,\n",
       " 'id-560290': 18,\n",
       " 'id-566573': 0,\n",
       " 'id-566825': 0,\n",
       " 'id-565648': 10,\n",
       " 'id-565561': 16,\n",
       " 'id-563582': 33,\n",
       " 'id-565980': 1,\n",
       " 'id-565822': 330,\n",
       " 'id-566587': 0,\n",
       " 'id-566602': 0,\n",
       " 'id-552077': 1,\n",
       " 'id-566013': 20,\n",
       " 'id-563938': 2,\n",
       " 'id-563787': 0,\n",
       " 'id-563115': 75,\n",
       " 'id-564335': 7,\n",
       " 'id-566631': 0,\n",
       " 'id-559855': 17,\n",
       " 'id-566689': 0,\n",
       " 'id-565515': 95,\n",
       " 'id-566431': 2378,\n",
       " 'id-559833': 0,\n",
       " 'id-560518': 6,\n",
       " 'id-559744': 2,\n",
       " 'id-566541': 0,\n",
       " 'id-566022': 23,\n",
       " 'id-565747': 137,\n",
       " 'id-564371': 4,\n",
       " 'id-563643': 48,\n",
       " 'id-566478': 0,\n",
       " 'id-562265': 0,\n",
       " 'id-560620': 3,\n",
       " 'id-565479': 23,\n",
       " 'id-563846': 65,\n",
       " 'id-564418': 19,\n",
       " 'id-560805': 11,\n",
       " 'id-565533': 22,\n",
       " 'id-565364': 12,\n",
       " 'id-566726': 0,\n",
       " 'id-566092': 13,\n",
       " 'id-555224': 51,\n",
       " 'id-566439': 0,\n",
       " 'id-562637': 0,\n",
       " 'id-555528': 12,\n",
       " 'id-565930': 18}"
      ]
     },
     "execution_count": 8,
     "metadata": {},
     "output_type": "execute_result"
    }
   ],
   "source": [
    "reward_result = reward.astype(int)\n",
    "arm_reward = dict(zip(arm, reward_result))\n",
    "arm_reward"
   ]
  }
 ],
 "metadata": {
  "kernelspec": {
   "display_name": "Python 3 (ipykernel)",
   "language": "python",
   "name": "python3"
  },
  "language_info": {
   "codemirror_mode": {
    "name": "ipython",
    "version": 3
   },
   "file_extension": ".py",
   "mimetype": "text/x-python",
   "name": "python",
   "nbconvert_exporter": "python",
   "pygments_lexer": "ipython3",
   "version": "3.8.13"
  }
 },
 "nbformat": 4,
 "nbformat_minor": 5
}
