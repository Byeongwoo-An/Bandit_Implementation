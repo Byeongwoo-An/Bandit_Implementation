{
 "cells": [
  {
   "cell_type": "code",
   "execution_count": 12,
   "id": "4552585b",
   "metadata": {
    "ExecuteTime": {
     "end_time": "2023-07-14T06:48:20.737979Z",
     "start_time": "2023-07-14T06:48:20.105910Z"
    }
   },
   "outputs": [],
   "source": [
    "import pandas as pd\n",
    "from collections import defaultdict\n",
    "import gzip\n",
    "import numpy as np\n",
    "import random\n",
    "import matplotlib.pyplot as plt"
   ]
  },
  {
   "cell_type": "code",
   "execution_count": 2,
   "id": "029a8cf7",
   "metadata": {
    "ExecuteTime": {
     "end_time": "2023-07-14T06:45:42.206111Z",
     "start_time": "2023-07-14T06:45:18.010971Z"
    }
   },
   "outputs": [],
   "source": [
    "path = \"./small_data/ydata-fp-td-clicks-v2_0.20111002.gz\"\n",
    "dic = defaultdict(list)\n",
    "with gzip.open(path,\"rb\") as f:\n",
    "    lines = f.readlines()\n",
    "    for idx, line in enumerate(lines):\n",
    "        elements = line.decode('utf-8').strip().split(\" |\")\n",
    "        ts, displayed_arm, reward = elements[0].split(\" \")\n",
    "        feature_idx = np.array(elements[1].split(\" \")[1:]).astype(\"int\")-1\n",
    "        features = np.zeros(136)\n",
    "        features[feature_idx] = 1\n",
    "        pools = elements[2:]\n",
    "        \n",
    "        dic['displayed_arm'].append(displayed_arm)\n",
    "        dic['reward'].append(reward)\n",
    "        dic['features'].append(features)\n",
    "        dic['pool'].append(pools)"
   ]
  },
  {
   "cell_type": "code",
   "execution_count": 3,
   "id": "b28df727",
   "metadata": {
    "ExecuteTime": {
     "end_time": "2023-07-14T06:45:42.862898Z",
     "start_time": "2023-07-14T06:45:42.208075Z"
    }
   },
   "outputs": [
    {
     "data": {
      "text/html": [
       "<div>\n",
       "<style scoped>\n",
       "    .dataframe tbody tr th:only-of-type {\n",
       "        vertical-align: middle;\n",
       "    }\n",
       "\n",
       "    .dataframe tbody tr th {\n",
       "        vertical-align: top;\n",
       "    }\n",
       "\n",
       "    .dataframe thead th {\n",
       "        text-align: right;\n",
       "    }\n",
       "</style>\n",
       "<table border=\"1\" class=\"dataframe\">\n",
       "  <thead>\n",
       "    <tr style=\"text-align: right;\">\n",
       "      <th></th>\n",
       "      <th>displayed_arm</th>\n",
       "      <th>reward</th>\n",
       "      <th>features</th>\n",
       "      <th>pool</th>\n",
       "    </tr>\n",
       "  </thead>\n",
       "  <tbody>\n",
       "    <tr>\n",
       "      <th>0</th>\n",
       "      <td>id-560620</td>\n",
       "      <td>0</td>\n",
       "      <td>[1.0, 0.0, 0.0, 0.0, 0.0, 0.0, 0.0, 0.0, 1.0, ...</td>\n",
       "      <td>[id-552077, id-555224, id-555528, id-559744, i...</td>\n",
       "    </tr>\n",
       "    <tr>\n",
       "      <th>1</th>\n",
       "      <td>id-565648</td>\n",
       "      <td>0</td>\n",
       "      <td>[1.0, 0.0, 0.0, 0.0, 0.0, 0.0, 0.0, 0.0, 1.0, ...</td>\n",
       "      <td>[id-552077, id-555224, id-555528, id-559744, i...</td>\n",
       "    </tr>\n",
       "    <tr>\n",
       "      <th>2</th>\n",
       "      <td>id-563115</td>\n",
       "      <td>0</td>\n",
       "      <td>[1.0, 0.0, 0.0, 0.0, 0.0, 0.0, 0.0, 1.0, 0.0, ...</td>\n",
       "      <td>[id-552077, id-555224, id-555528, id-559744, i...</td>\n",
       "    </tr>\n",
       "    <tr>\n",
       "      <th>3</th>\n",
       "      <td>id-552077</td>\n",
       "      <td>0</td>\n",
       "      <td>[1.0, 0.0, 0.0, 0.0, 0.0, 0.0, 1.0, 0.0, 0.0, ...</td>\n",
       "      <td>[id-552077, id-555224, id-555528, id-559744, i...</td>\n",
       "    </tr>\n",
       "    <tr>\n",
       "      <th>4</th>\n",
       "      <td>id-564335</td>\n",
       "      <td>0</td>\n",
       "      <td>[1.0, 0.0, 0.0, 0.0, 0.0, 0.0, 0.0, 0.0, 0.0, ...</td>\n",
       "      <td>[id-552077, id-555224, id-555528, id-559744, i...</td>\n",
       "    </tr>\n",
       "  </tbody>\n",
       "</table>\n",
       "</div>"
      ],
      "text/plain": [
       "  displayed_arm reward                                           features  \\\n",
       "0     id-560620      0  [1.0, 0.0, 0.0, 0.0, 0.0, 0.0, 0.0, 0.0, 1.0, ...   \n",
       "1     id-565648      0  [1.0, 0.0, 0.0, 0.0, 0.0, 0.0, 0.0, 0.0, 1.0, ...   \n",
       "2     id-563115      0  [1.0, 0.0, 0.0, 0.0, 0.0, 0.0, 0.0, 1.0, 0.0, ...   \n",
       "3     id-552077      0  [1.0, 0.0, 0.0, 0.0, 0.0, 0.0, 1.0, 0.0, 0.0, ...   \n",
       "4     id-564335      0  [1.0, 0.0, 0.0, 0.0, 0.0, 0.0, 0.0, 0.0, 0.0, ...   \n",
       "\n",
       "                                                pool  \n",
       "0  [id-552077, id-555224, id-555528, id-559744, i...  \n",
       "1  [id-552077, id-555224, id-555528, id-559744, i...  \n",
       "2  [id-552077, id-555224, id-555528, id-559744, i...  \n",
       "3  [id-552077, id-555224, id-555528, id-559744, i...  \n",
       "4  [id-552077, id-555224, id-555528, id-559744, i...  "
      ]
     },
     "execution_count": 3,
     "metadata": {},
     "output_type": "execute_result"
    }
   ],
   "source": [
    "train = pd.DataFrame(dic)\n",
    "train.head(5)"
   ]
  },
  {
   "cell_type": "code",
   "execution_count": 4,
   "id": "e7bd006e",
   "metadata": {
    "ExecuteTime": {
     "end_time": "2023-07-14T06:45:43.110764Z",
     "start_time": "2023-07-14T06:45:42.864872Z"
    }
   },
   "outputs": [
    {
     "data": {
      "text/plain": [
       "array(['id-565515', 'id-564371', 'id-562637', 'id-566726', 'id-564604',\n",
       "       'id-563938', 'id-564418', 'id-562265', 'id-566573', 'id-552077',\n",
       "       'id-566838', 'id-565364', 'id-565533', 'id-560290', 'id-560805',\n",
       "       'id-566587', 'id-565980', 'id-566825', 'id-565930', 'id-566541',\n",
       "       'id-566439', 'id-564335', 'id-566631', 'id-565747', 'id-560518',\n",
       "       'id-563643', 'id-565648', 'id-566478', 'id-566092', 'id-563582',\n",
       "       'id-565561', 'id-566022', 'id-562374', 'id-560620', 'id-566689',\n",
       "       'id-565589', 'id-555528', 'id-563846', 'id-559833', 'id-559855',\n",
       "       'id-565479', 'id-559744', 'id-565822', 'id-555224', 'id-563115',\n",
       "       'id-566013', 'id-566602', 'id-566431', 'id-563787'], dtype=object)"
      ]
     },
     "execution_count": 4,
     "metadata": {},
     "output_type": "execute_result"
    }
   ],
   "source": [
    "arm = train['displayed_arm'].unique()\n",
    "random.shuffle(arm)\n",
    "arm"
   ]
  },
  {
   "cell_type": "code",
   "execution_count": 5,
   "id": "aad1a00d",
   "metadata": {
    "ExecuteTime": {
     "end_time": "2023-07-14T06:45:43.188694Z",
     "start_time": "2023-07-14T06:45:43.112758Z"
    }
   },
   "outputs": [],
   "source": [
    "reward = np.zeros(len(arm))\n",
    "play = np.zeros(len(arm))\n",
    "mu = np.zeros(len(arm))\n",
    "time = 0\n",
    "\n",
    "iter_ = max(train.index)\n",
    "cum_reward = []"
   ]
  },
  {
   "cell_type": "code",
   "execution_count": 6,
   "id": "b23be094",
   "metadata": {
    "ExecuteTime": {
     "end_time": "2023-07-14T06:46:12.162617Z",
     "start_time": "2023-07-14T06:45:43.190690Z"
    },
    "scrolled": true
   },
   "outputs": [
    {
     "name": "stderr",
     "output_type": "stream",
     "text": [
      "C:\\Users\\Byeongwoo\\AppData\\Local\\Temp\\ipykernel_11356\\2797139607.py:9: RuntimeWarning: invalid value encountered in divide\n",
      "  mu = reward/play\n"
     ]
    }
   ],
   "source": [
    "while sum(play == 1) != len(arm):\n",
    "    tmp_idx = np.argmin(play)\n",
    "    play[tmp_idx] += 1\n",
    "    if train['displayed_arm'].iloc[time] == arm[tmp_idx]:\n",
    "        reward[tmp_idx] += int(train['reward'].iloc[time])\n",
    "    else:\n",
    "        reward[tmp_idx] += 0\n",
    "    time += 1\n",
    "    mu = reward/play\n",
    "    cum_reward.append(sum(reward))\n",
    "    \n",
    "while time < iter_:\n",
    "    action = np.argmax(mu + (2*np.log(time))/play)\n",
    "    play[action] += 1\n",
    "    if train['displayed_arm'].iloc[time] == arm[action]:\n",
    "        reward[action] += int(train['reward'].iloc[time])\n",
    "    else:\n",
    "        reward[action] += 0\n",
    "    time += 1\n",
    "    mu = reward/play\n",
    "    cum_reward.append(sum(reward))"
   ]
  },
  {
   "cell_type": "code",
   "execution_count": 7,
   "id": "f4df7038",
   "metadata": {
    "ExecuteTime": {
     "end_time": "2023-07-14T06:46:12.177983Z",
     "start_time": "2023-07-14T06:46:12.163585Z"
    }
   },
   "outputs": [
    {
     "data": {
      "text/plain": [
       "{'id-565515': 103,\n",
       " 'id-564371': 0,\n",
       " 'id-562637': 0,\n",
       " 'id-566726': 0,\n",
       " 'id-564604': 5,\n",
       " 'id-563938': 2,\n",
       " 'id-564418': 11,\n",
       " 'id-562265': 0,\n",
       " 'id-566573': 0,\n",
       " 'id-552077': 0,\n",
       " 'id-566838': 0,\n",
       " 'id-565364': 20,\n",
       " 'id-565533': 74,\n",
       " 'id-560290': 20,\n",
       " 'id-560805': 8,\n",
       " 'id-566587': 0,\n",
       " 'id-565980': 0,\n",
       " 'id-566825': 0,\n",
       " 'id-565930': 22,\n",
       " 'id-566541': 0,\n",
       " 'id-566439': 0,\n",
       " 'id-564335': 10,\n",
       " 'id-566631': 0,\n",
       " 'id-565747': 260,\n",
       " 'id-560518': 11,\n",
       " 'id-563643': 48,\n",
       " 'id-565648': 14,\n",
       " 'id-566478': 0,\n",
       " 'id-566092': 6,\n",
       " 'id-563582': 25,\n",
       " 'id-565561': 23,\n",
       " 'id-566022': 4,\n",
       " 'id-562374': 0,\n",
       " 'id-560620': 2,\n",
       " 'id-566689': 0,\n",
       " 'id-565589': 25,\n",
       " 'id-555528': 12,\n",
       " 'id-563846': 60,\n",
       " 'id-559833': 0,\n",
       " 'id-559855': 12,\n",
       " 'id-565479': 41,\n",
       " 'id-559744': 2,\n",
       " 'id-565822': 88,\n",
       " 'id-555224': 51,\n",
       " 'id-563115': 59,\n",
       " 'id-566013': 17,\n",
       " 'id-566602': 0,\n",
       " 'id-566431': 2343,\n",
       " 'id-563787': 1}"
      ]
     },
     "execution_count": 7,
     "metadata": {},
     "output_type": "execute_result"
    }
   ],
   "source": [
    "reward_result = reward.astype(int)\n",
    "arm_reward = dict(zip(arm, reward_result))\n",
    "arm_reward"
   ]
  },
  {
   "cell_type": "code",
   "execution_count": 14,
   "id": "f27e3667",
   "metadata": {
    "ExecuteTime": {
     "end_time": "2023-07-14T06:50:01.107418Z",
     "start_time": "2023-07-14T06:50:00.859697Z"
    }
   },
   "outputs": [
    {
     "data": {
      "image/png": "[encoded data removed]",
      "text/plain": [
       "<Figure size 640x480 with 1 Axes>"
      ]
     },
     "metadata": {},
     "output_type": "display_data"
    }
   ],
   "source": [
    "plt.plot(cum_reward)\n",
    "plt.title(\"Cumulative reward\")\n",
    "plt.show()"
   ]
  }
 ],
 "metadata": {
  "kernelspec": {
   "display_name": "Python 3 (ipykernel)",
   "language": "python",
   "name": "python3"
  },
  "language_info": {
   "codemirror_mode": {
    "name": "ipython",
    "version": 3
   },
   "file_extension": ".py",
   "mimetype": "text/x-python",
   "name": "python",
   "nbconvert_exporter": "python",
   "pygments_lexer": "ipython3",
   "version": "3.8.13"
  }
 },
 "nbformat": 4,
 "nbformat_minor": 5
}
